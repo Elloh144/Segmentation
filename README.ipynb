{
 "cells": [
  {
   "cell_type": "markdown",
   "metadata": {},
   "source": [
    "# Customer Segmentation Data Generation\n",
    "\n",
    "This project generates synthetic customer data for the purpose of customer segmentation analysis. The generated dataset includes fields such as customer ID, gender, age, annual income, and spending score.\n",
    "\n",
    "## Table of Contents\n",
    "\n",
    "- [Dataset](#dataset)\n",
    "- [Installation](#installation)\n",
    "- [Usage](#usage)\n",
    "- [Generated Data](#generated-data)\n",
    "- [License](#license)\n",
    "\n",
    "## Dataset\n",
    "\n",
    "The dataset consists of 300 records with the following fields:\n",
    "\n",
    "- `CustomerID`: Unique identifier for each customer (int64).\n",
    "- `Gender`: Gender of the customer (Male or Female) (object).\n",
    "- `Age`: Age of the customer, ranging from 18 to 69 (int64).\n",
    "- `AnnualIncome`: Annual income of the customer, ranging from 20,000 to 150,000 (int64).\n",
    "- `SpendingScore`: Spending score of the customer, ranging from 1 to 100 (int64).\n",
    "\n",
    "## Installation\n",
    "\n",
    "To generate the dataset, you need to have Python installed on your system. Additionally, you need the following Python packages:\n",
    "- `pandas`\n",
    "- `numpy`\n",
    "\n",
    "You can install these packages using `pip`:\n",
    "\n",
    "```bash\n",
    "pip install pandas numpy\n"
   ]
  }
 ],
 "metadata": {
  "kernelspec": {
   "display_name": "Segmentation",
   "language": "python",
   "name": "python3"
  },
  "language_info": {
   "name": "python",
   "version": "3.10.7"
  }
 },
 "nbformat": 4,
 "nbformat_minor": 2
}
